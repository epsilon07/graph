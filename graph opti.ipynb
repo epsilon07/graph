{
 "cells": [
  {
   "cell_type": "markdown",
   "metadata": {},
   "source": [
    "# Optimisation de la représentation d'un graphe dans le plan par recuit simulé."
   ]
  },
  {
   "cell_type": "markdown",
   "metadata": {},
   "source": [
    "Quelques cellules plus bas, nous expliquons brièvement en Rmarkdown le fonctionnement de l'algorithme. Pour passer directement à la fonction, il  faudra exécuter toutes les cellules puis se rendre à la fin.\n",
    "\n",
    "Merci.\n",
    "\n",
    "##### Teddy Dousset\n",
    "\n",
    "\n"
   ]
  },
  {
   "cell_type": "code",
   "execution_count": 10,
   "metadata": {},
   "outputs": [],
   "source": [
    "import numpy as np   \n",
    "import numpy.random as npr\n",
    "import matplotlib.pyplot as plt\n",
    "from math import *\n",
    "import time\n",
    "from numpy.linalg import norm\n",
    "from numpy import arccos, pi, cross, dot"
   ]
  },
  {
   "cell_type": "code",
   "execution_count": 11,
   "metadata": {},
   "outputs": [],
   "source": [
    "def union(a, b):\n",
    "    return(list(set(a) | set(b)))\n",
    "\n",
    "def connected_component(A, k = 0):\n",
    "    n = len(A[0])\n",
    "    s = [k]\n",
    "    t = [j for j in range(n) if A[k, j] != 0]\n",
    "    while len(union(s, t)) > len(s):\n",
    "        s = union(s, t)\n",
    "        t0 = []\n",
    "        for i in t:\n",
    "            t0 = union(t0, [j for j in range(n) if A[i, j] != 0])\n",
    "        t = t0\n",
    "    return(s)\n",
    "\n",
    "\n",
    "def gen_graph(n, d, p):\n",
    "    A = np.zeros((n, n))\n",
    "    for i in range(n - 1):\n",
    "        for j in np.arange(i + 1, n):\n",
    "            if np.abs(i - j) < d:\n",
    "                A[i, j] = npr.binomial(1, p)\n",
    "    A = A + A.transpose()\n",
    "    C = connected_component(A, 0)\n",
    "    while len(C) < n:\n",
    "        i = npr.choice(C)\n",
    "        j = npr.choice([l for l in np.arange(n) if not (l in C)])\n",
    "        A[i, j] = 1\n",
    "        A[j, i] = 1\n",
    "        C = connected_component(A, 0)\n",
    "    s = npr.permutation(n)\n",
    "    A = A[s, :]\n",
    "    A = A[:, s]\n",
    "    return(A)\n",
    "\n",
    "def plot_graph(X, Y, A):\n",
    "    plt.scatter(X, Y, s = 50)\n",
    "    n = len(X)\n",
    "    for i in range(n - 1):\n",
    "        for j in np.arange(i + 1, n):\n",
    "            if A[i,j] == 1:\n",
    "                plt.plot([X[i], X[j]], [Y[i], Y[j]], '-')\n",
    "    plt.show()"
   ]
  },
  {
   "cell_type": "code",
   "execution_count": 12,
   "metadata": {},
   "outputs": [],
   "source": [
    "npr.seed(1)\n",
    "A1 = gen_graph(20, 3, 0.7)\n",
    "A2 = gen_graph(30, 5, 0.3)\n",
    "A3 = gen_graph(50, 5, 0.2)\n",
    "A4 = gen_graph(100, 6, 0.1)\n",
    "A5 = gen_graph(200, 3, 0.7)"
   ]
  },
  {
   "cell_type": "markdown",
   "metadata": {},
   "source": [
    "Représentation d'un graphe $G=(V,E)$ dans le carré $[0;1] \\times[0;1]$\n",
    "\n",
    "Le plus difficile ici est de trouver une fonction objectif $J$ à minimiser. \n",
    "Notre fonction $J$ doit tenir compte pour les sommets $V$, des critères suivants: \n",
    "\n",
    "### 1) Les sommets sont équitablement répartis dans le carré unité:\n",
    "\n",
    "Soit $d_{ij}$ la distance euclidienne entre 2 sommets $i,j \\in  \\left\\{  1,..,n \\right\\} $ .\n",
    "\n",
    "On veut maximiser pour  $i \\ne j$ (distincts):\n",
    "#### $\\displaystyle\\sum_{\\underset{i \\ne j}{i,j=1}}^n d_{ij}^2$ \n",
    "\n",
    " ce qui revient à minimiser:\n",
    " \n",
    "#### $J_1=\\displaystyle\\sum_{\\underset{i \\ne j}{i,j=1}}^n \\frac{1}{d_{ij}^2}$\n",
    "\n",
    "\n",
    "\n",
    "### 2) Deux points connectés entre eux sont plus proches que deux points non connectés:\n",
    "\n",
    "On veut minimiser  \n",
    "\n",
    "#### $J_2=\\displaystyle\\sum_{\\underset{(i,j) \\in E }{i,j=1}}^n d_{ij}^2 $  \n",
    "où $(i,j) \\in E $ sont 2 points connectés\n",
    "\n",
    "### 3) Les arêtes ne se croisent pas trop entre elles:\n",
    "\n",
    "Pour cela nous allons créer une fonction  $croisement(.,.)$ qui prend pour arguments 2 segments et telle que:\n",
    "\n",
    "\n",
    "$$\n",
    "croisement(u,v) =\\left\\{\n",
    "    \\begin{array}{ll}\n",
    "        1 & \\mbox{si u et v se coupent} \\\\\n",
    "         0 & \\mbox{sinon }\n",
    "    \\end{array}\n",
    "\\right.\n",
    "$$\n",
    "\n",
    "On veut donc minimiser: \n",
    "\n",
    "#### $J_3=\\displaystyle\\sum_{\\underset{(i,j),(l,k) \\in E}{i\\ne j \\ne l \\ne k}} croisement(u_{ij},v_{kl})$\n",
    "\n",
    "où $u_{ij}$ et $v_{kl}$ sont des arêtes et $i,j,k,l$ tous distincts.\n",
    "\n",
    "### 4) Un sommet est loin d'une arête qui n'est pas la sienne:\n",
    "\n",
    "Pour commencer, on définit une distance entre un point $P$ et un segment $[AB]$:\n",
    "\n",
    "$D([AB],P)= \\underset{x \\in [AB]}{min} d(x,P)$\n",
    "\n",
    "où $d$ est la distance euclidienne entre deux points\n",
    "\n",
    "On doit minimiser : \n",
    "\n",
    "#### $ J_4 = \\displaystyle\\sum_{\\underset{(i,j) \\in E \\\\ i\\ne j \\ne k}{i,j=1}\n",
    "}^n \\frac{1}{D(u_{ij},k)^2}$\n",
    "\n",
    "  \n",
    "\n",
    "\n",
    "### Notre fonction objectif $J$:\n",
    "\n",
    "\n",
    "Notre fonction objectif $J$ est ainsi le produit des fonctions $J_i$ précedentes\n",
    "\n",
    "$$ J = J_1 \\times J_2 \\times (J_3+1) $$\n",
    "\n",
    "\n",
    "Si le nombre de croisement tombait à 0, $J_3$ et donc $J$ seraient nulles. Pour cette raison nous ajoutons 1 à $J_3$\n",
    "\n",
    "Nous chercherons à minimiser cette fonction $J$ par recuit simulé. La rapidité du calcul de $J$ est très importante car elle sera répétée un grand nombre de fois.\n",
    "\n",
    "Nous avons essayé de nombreuses expressions différentes pour $J$ (sommer les $J_i$, leur ajouter des poids ou des exposants) mais celle-ci est celle qui donnait les meilleurs résultats.\n",
    "\n",
    "#### Et pour $J_4$....\n",
    "$J_4$ étant beaucoup trop lente à calculer et ses résultats plutôt moyens, nous avons choisi de ne pas l'intégrer à notre optimisation par recuit simulé.\n",
    "\n",
    "Cependant nous avons programmé une optimisation de $J_4$ par recherche aléatoire localisée pour améliorer le graph obtenu suite au recuit simulé lorsque les points chevauchent un peu trop les arètes.\n",
    "\n",
    "### Précisions concernant notre algorithme de recuit simulé:\n",
    "\n",
    "\n",
    "Appliquer un algorithme de recuit simulé à l'optimiation d'un graph soulève de nombreuses questions:\n",
    "\n",
    "1) Combien de points allons nous bouger à chaque étape? un seul? tous? seulement quelques uns? (par exemple 5%)\n",
    "\n",
    "2) Comment choisir la température?\n",
    "\n",
    "Les étapes à hautes températures sont très importantes et doivent durer suffisamment longtemps car c'est là que les points sont les plus libres de se déplacer un peu partout dans le carré $[0;1] \\times[0;1]$. \n",
    "\n",
    "3) Un temps de calcul raisonnable...\n",
    "\n",
    "-----\n",
    "\n",
    "\n",
    "Il y a énormement d'autres paramètres à optimiser: la loi des incréments, le nombre d'itérations, condition d'arrêt....il est difficile de tout tester.\n",
    "\n",
    "Les résultats semblent meilleurs lorsqu'on ne déplace qu'un point à la fois et avec une température décroissante selon une suite géométrique.\n",
    "De plus nous avons essayé de rendre notre fonction le plus universelle possible en adaptant tout ces paramètres à la taille du graph mais la meilleure façon de proceder serait de chercher à tâton les meilleurs paramètres pour un graph donné.\n",
    "\n"
   ]
  },
  {
   "cell_type": "markdown",
   "metadata": {},
   "source": [
    "La température a été choisi manière à prolonger un peu la phase de haute température\n",
    "\n",
    "Notre vecteur de Température est donc le suivant:"
   ]
  },
  {
   "cell_type": "code",
   "execution_count": 13,
   "metadata": {},
   "outputs": [
    {
     "data": {
      "text/plain": [
       "Text(0.5, 1.0, 'Vecteur Température utilisé dans le recuit simulé')"
      ]
     },
     "execution_count": 13,
     "metadata": {},
     "output_type": "execute_result"
    },
    {
     "data": {
      "image/png": "[encoded data removed]",
      "text/plain": [
       "<Figure size 432x288 with 1 Axes>"
      ]
     },
     "metadata": {
      "needs_background": "light"
     },
     "output_type": "display_data"
    }
   ],
   "source": [
    "dim_matrice=50\n",
    "\n",
    "T1=[dim_matrice*0.99**i for i in range(1,90)]\n",
    "T2=[dim_matrice*0.98**i for i in range(45,10*dim_matrice+1-45)]\n",
    "T=T1+T2\n",
    "\n",
    "plt.plot(T)\n",
    "plt.title('Vecteur Température utilisé dans le recuit simulé')"
   ]
  },
  {
   "cell_type": "markdown",
   "metadata": {},
   "source": [
    "Les fonctions $J_1$,$J_2$ et $J_4$ sont de simples calculs de distances:"
   ]
  },
  {
   "cell_type": "code",
   "execution_count": 14,
   "metadata": {},
   "outputs": [],
   "source": [
    "################# PREREQUIS #################\n",
    "\n",
    "#liste des aretes du graph:\n",
    "def connect(A):\n",
    "    res=[]\n",
    "    for i in range(n-1):\n",
    "        for j in range(i+1,n):\n",
    "            if(A[i,j]!=0):\n",
    "                res.append([i,j])\n",
    "    return res\n",
    "\n",
    "#fonction distance point-segment.\n",
    "#Retourne le projeté orthogonal si celui ci appartient au segment\n",
    "#sinon retourne l'extrémité la plus proche du point:\n",
    "def distance_point_seg(A, B, P):\n",
    "    if all(A == P) or all(B == P):\n",
    "        return 0\n",
    "    if arccos(dot((P - A) / norm(P - A), (B - A) / norm(B - A))) > pi / 2:\n",
    "        return norm(P - A)\n",
    "    if arccos(dot((P - B) / norm(P - B), (A - B) / norm(A - B))) > pi / 2:\n",
    "        return norm(P - B)\n",
    "    return norm(cross(A-B, A-P))/norm(B-A)\n",
    "\n",
    "###################### FONCTION J1 ######################\n",
    "def J1(X,Y):\n",
    "    res=0\n",
    "    for i in range(n-1):\n",
    "        for j in range(i+1,n):\n",
    "            res=res+1/((X[i]-X[j])**2+(Y[i]-Y[j])**2)  \n",
    "    return res\n",
    "\n",
    "\n",
    "###################### FONCTION J2 ######################\n",
    "def J2(X,Y):\n",
    "    res=0\n",
    "    for i,j in connected:\n",
    "        res=res+(X[i]-X[j])**2+(Y[i]-Y[j])**2\n",
    "    return res\n",
    "        \n",
    "    \n",
    "###################### FONCTION J4 ######################\n",
    "def J4(X,Y):\n",
    "    S=0\n",
    "    for i,j in connected:\n",
    "        for k in range(n):\n",
    "            if (k!=j and k!=i):\n",
    "                #pour eviter des valeurs infiniment grandes, quand un point est\n",
    "                #tres proche d'une arete on lui attribut une distance de 0.0001\n",
    "                d=max(distance_point_seg(np.array([X[i],Y[i]]),\n",
    "                                   np.array([X[j],Y[j]]),\n",
    "                                   np.array([X[k],Y[k]])),0.0001)\n",
    "                S=S+1/d\n",
    "    return(S)\n"
   ]
  },
  {
   "cell_type": "markdown",
   "metadata": {},
   "source": [
    "La fonction $J_3$ est plus compliquée:"
   ]
  },
  {
   "cell_type": "code",
   "execution_count": 15,
   "metadata": {},
   "outputs": [],
   "source": [
    "#calcul d'un déterminant entre 2 points:\n",
    "def det(a, b):\n",
    "        return a[0] * b[1] - a[1] * b[0]\n",
    "\n",
    "#Notre fonction croisement\n",
    "def croisement(line1,line2):\n",
    "    #On commence par chercher l'intersection des deux droites\n",
    "    xdiff = (line1[0][0] - line1[1][0], line2[0][0] - line2[1][0])\n",
    "    ydiff = (line1[0][1] - line1[1][1], line2[0][1] - line2[1][1])\n",
    "    div = det(xdiff, ydiff)\n",
    "    if (div == 0):\n",
    "        res=[]\n",
    "    d = (det(*line1), det(*line2))\n",
    "    x = det(d, xdiff) / div\n",
    "    y = det(d, ydiff) / div\n",
    "    res=[x,y]\n",
    "        \n",
    "    #Vérifie si l'intersection appartient aux 2 aretes et retourne 1 dans ce cas:\n",
    "    if(res!=[]\n",
    "       and line1[0]!=line2[0]\n",
    "       and line1[0]!=line2[1]\n",
    "       and line1[1]!=line2[0]\n",
    "       and line1[1]!=line2[1]\n",
    "       and res[0]<= max(line1[0][0],line1[1][0]) \n",
    "       and res[0]>= min(line1[0][0],line1[1][0]) \n",
    "       and res[0]<= max(line2[0][0],line2[1][0]) \n",
    "       and res[0]>= min(line2[0][0],line2[1][0])):\n",
    "        return(1)\n",
    "    else:\n",
    "        return(0)\n",
    "\n",
    "###################### FONCTION J3 ######################\n",
    "def J3(X,Y):\n",
    "    compt=0\n",
    "    c=0\n",
    "    pos=0\n",
    "    for i,k in connected[:-1]:\n",
    "        pos=pos+1\n",
    "        for j,l in connected[pos:]:\n",
    "            if(j!=i and l!=k):\n",
    "                c=croisement(([X[i],Y[i]],[X[k],Y[k]]),([X[j],Y[j]],[X[l],Y[l]]))\n",
    "                compt=compt+c\n",
    "    return compt\n",
    "\n"
   ]
  },
  {
   "cell_type": "code",
   "execution_count": 16,
   "metadata": {},
   "outputs": [],
   "source": [
    "###################### FONCTION J ######################\n",
    "\n",
    "def J(X,Y):\n",
    "    return J1(X,Y)*J2(X,Y)*(J3(X,Y)+1)"
   ]
  },
  {
   "cell_type": "code",
   "execution_count": null,
   "metadata": {},
   "outputs": [],
   "source": []
  },
  {
   "cell_type": "code",
   "execution_count": 8,
   "metadata": {},
   "outputs": [],
   "source": [
    "############## RECUIT SIMULE ####################\n",
    "\n",
    "#algorithme de recuit simulé simple (changer 1 point à la fois) \n",
    "\n",
    "def RS_simple(T,A,a,max_try):\n",
    "    \n",
    "    it=0\n",
    "    tentatives=0\n",
    "    X=npr.uniform(0,1,n)+0\n",
    "    Y=npr.uniform(0,1,n)+0\n",
    "    Etat1=J(X,Y)\n",
    "\n",
    "    while (it<(len(T)-1)):\n",
    "\n",
    "        k=npr.choice(n,1)#on tire 1 indice\n",
    "        it_precedent=it\n",
    "        \n",
    "            \n",
    "        X_increment=npr.uniform(-a,a)\n",
    "        Y_increment=npr.uniform(-a,a)\n",
    "        \n",
    "        X_temp=X+0\n",
    "        X_temp[k]=X_temp[k]+X_increment+0\n",
    "        Y_temp=Y+0\n",
    "        Y_temp[k]=Y_temp[k]+Y_increment+0\n",
    "        \n",
    "        Etat2=J(X_temp,Y_temp)\n",
    "\n",
    "        if(((Etat2<Etat1))\n",
    "            and (0<X_temp[k]<1)\n",
    "            and (0<Y_temp[k]<1)):\n",
    "            X=X_temp+0\n",
    "            Y=Y_temp+0\n",
    "            Etat1=Etat2\n",
    "            it=it+1\n",
    "            if(it%len(A)==0):\n",
    "                print(str(round(100*it/(len(T))))+'%')\n",
    "            \n",
    "        else: \n",
    "            U=npr.uniform(0,1)\n",
    "            if((U<np.exp(Etat1-Etat2)/T[it+1])\n",
    "               and (0<X_temp[k]<1)\n",
    "               and (0<Y_temp[k]<1)):\n",
    "                \n",
    "                X=X_temp+0\n",
    "                Y=Y_temp+0\n",
    "                Etat1=Etat2\n",
    "                it=it+1\n",
    "                if(it%len(A)==0):\n",
    "                    print(str(round(100*it/(len(T))))+'%')\n",
    "        \n",
    "        if(it==it_precedent):\n",
    "            tentatives=tentatives+1\n",
    "            if(T[it]<10**-4):\n",
    "                break\n",
    "        else:\n",
    "            tentatives=0\n",
    "            \n",
    "        if (tentatives>max_try):\n",
    "            it=it+1\n",
    "            tentatives=0\n",
    "            \n",
    "    return(X,Y)\n",
    "\n",
    "### Fonction qui exécute le recuit simulé et trace le graphe\n",
    "def Recuit_graph(A,max_try=50):\n",
    "    global n\n",
    "    global connected\n",
    "    #on créé ces variables globalement pour ne pas \n",
    "    #avoir à les recreer dans chaque J (gain de temps)\n",
    "    n=len(A)\n",
    "    connected=connect(A)\n",
    "\n",
    "    N=max(10*n,300)\n",
    "    #loi des incréments : Uniforme (-a,a) \n",
    "    a=0.35\n",
    "\n",
    "    #Vecteur des températures\n",
    "    T1=[n*0.99**i for i in range(1,90)]\n",
    "    T2=[n*0.98**i for i in range(45,N+1-45)]\n",
    "    T=T1+T2\n",
    "    \n",
    "    global OPTI\n",
    "    #on rend cette variable globale\n",
    "    #pour pouvoir réutiliser X et Y dans la fonction de recherche aléatoire optiJ4()\n",
    "    OPTI=RS_simple(T,A,a,max_try)\n",
    "    \n",
    "    plot_graph(OPTI[0],OPTI[1], A)\n",
    "    plt.show()\n",
    "    print('Nombre de croisements:'+str(J3(OPTI[0],OPTI[1])))\n",
    "    print('Energie totale du système:'+str(J(OPTI[0],OPTI[1])) )\n",
    "    return(J(OPTI[0],OPTI[1]))\n",
    "\n",
    "\n",
    "\n",
    "#on optimise J4 par recherche localisée (écarter un peu les points des aretes)\n",
    "def optiJ4(A):\n",
    "    global n\n",
    "    n=len(A)\n",
    "    X_opti=OPTI[0]\n",
    "    Y_opti=OPTI[1]\n",
    "    u=2/n\n",
    "    Etat1=J4(X_opti,Y_opti)*(1+J3(X_opti,Y_opti)) #on multiplie par J3 pour éviter les croisements\n",
    "    for iteration in range(10*n):\n",
    "        X=X_opti+0\n",
    "        Y=Y_opti+0\n",
    "        k=npr.choice(n,1)\n",
    "        X[k] = X[k] + npr.uniform(-u,u,len(k))\n",
    "        Y[k] = Y[k] + npr.uniform(-u,u,len(k))\n",
    "        Etat2=J4(X,Y)*(J3(X,Y)+1)\n",
    "        if(iteration%n ==0):\n",
    "              print(str(round(100*iteration/(n*10),1))+'%')\n",
    "        if (Etat2<Etat1):\n",
    "            Etat1=Etat2\n",
    "            X_opti=X+0\n",
    "            Y_opti=Y+0\n",
    "\n",
    "    plot_graph(X_opti,Y_opti, A)\n",
    "    plt.show()\n",
    "    \n"
   ]
  },
  {
   "cell_type": "markdown",
   "metadata": {},
   "source": [
    "C'est ici que vous pouvez lancer l'algorithme en tappant simplement \"Recuit_graph(A,max_try)\" où A est une matrice d'adjacence. \"max_try\" est le nombre d'essai avant de forcer à baisser la température d'un cran. Vous pouvez simplement écrire \"Recuit_graph(A)\" et \"max_try\" sera 50 par défaut.\n",
    "\n",
    "On a essayé de rendre l'algorithme assez rapide au détriment des performances. Pour avoir de meilleurs résultats avec les grosses matrices ( A4 par exemple ), il faut monter la variable \"max_try=100\" dans l'algorithme. (Mais il faudra environ 20~30min pour A4)"
   ]
  },
  {
   "cell_type": "code",
   "execution_count": 17,
   "metadata": {},
   "outputs": [
    {
     "name": "stderr",
     "output_type": "stream",
     "text": [
      "C:\\ProgramData\\Anaconda3\\lib\\site-packages\\ipykernel_launcher.py:41: RuntimeWarning: overflow encountered in exp\n"
     ]
    },
    {
     "name": "stdout",
     "output_type": "stream",
     "text": [
      "10%\n",
      "20%\n"
     ]
    },
    {
     "name": "stderr",
     "output_type": "stream",
     "text": [
      "C:\\ProgramData\\Anaconda3\\lib\\site-packages\\ipykernel_launcher.py:41: RuntimeWarning: overflow encountered in double_scalars\n"
     ]
    },
    {
     "name": "stdout",
     "output_type": "stream",
     "text": [
      "60%\n",
      "80%\n",
      "90%\n"
     ]
    },
    {
     "data": {
      "image/png": "[encoded data removed]",
      "text/plain": [
       "<Figure size 432x288 with 1 Axes>"
      ]
     },
     "metadata": {
      "needs_background": "light"
     },
     "output_type": "display_data"
    },
    {
     "name": "stdout",
     "output_type": "stream",
     "text": [
      "Nombre de croisements:5\n",
      "Energie totale du système:\n",
      "--- 90.0328299999237 seconds ---\n"
     ]
    }
   ],
   "source": [
    "import time\n",
    "start_time = time.time()\n",
    "Recuit_graph(A3,30)\n",
    "print(\"--- %s seconds ---\" % (time.time() - start_time))\n"
   ]
  },
  {
   "cell_type": "markdown",
   "metadata": {},
   "source": [
    "Optimisation de $J_4$ par recherche aléatoire localisée (si nécessaire):"
   ]
  },
  {
   "cell_type": "code",
   "execution_count": 18,
   "metadata": {},
   "outputs": [
    {
     "name": "stdout",
     "output_type": "stream",
     "text": [
      "0.0%\n",
      "10.0%\n",
      "20.0%\n",
      "30.0%\n",
      "40.0%\n",
      "50.0%\n",
      "60.0%\n",
      "70.0%\n",
      "80.0%\n",
      "90.0%\n"
     ]
    },
    {
     "data": {
      "image/png": "[encoded data removed]",
      "text/plain": [
       "<Figure size 432x288 with 1 Axes>"
      ]
     },
     "metadata": {
      "needs_background": "light"
     },
     "output_type": "display_data"
    }
   ],
   "source": [
    "#OPTIMISATION DE J4 (si besoin pour decoller les points des aretes)\n",
    "#à exécuter apres Recuit_graph \n",
    "#ne pas oublier de mettre en argument la même matrice.\n",
    "optiJ4(A3)"
   ]
  }
 ],
 "metadata": {
  "kernelspec": {
   "display_name": "Python 3",
   "language": "python",
   "name": "python3"
  },
  "language_info": {
   "codemirror_mode": {
    "name": "ipython",
    "version": 3
   },
   "file_extension": ".py",
   "mimetype": "text/x-python",
   "name": "python",
   "nbconvert_exporter": "python",
   "pygments_lexer": "ipython3",
   "version": "3.7.4"
  }
 },
 "nbformat": 4,
 "nbformat_minor": 2
}
